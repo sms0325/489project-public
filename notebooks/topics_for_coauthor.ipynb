{
  "nbformat": 4,
  "nbformat_minor": 0,
  "metadata": {
    "colab": {
      "name": "data_loading.ipynb",
      "provenance": [],
      "collapsed_sections": []
    },
    "kernelspec": {
      "name": "python3",
      "display_name": "Python 3"
    },
    "language_info": {
      "name": "python"
    }
  },
  "cells": [
    {
      "cell_type": "code",
      "metadata": {
        "id": "3F2Gn3se4SZW"
      },
      "source": [
        "import itertools\n",
        "import requests\n",
        "import pandas as pd\n",
        "import networkx as nx\n",
        "import operator\n",
        "from functools import reduce\n",
        "from collections import Counter"
      ],
      "execution_count": 63,
      "outputs": []
    },
    {
      "cell_type": "code",
      "metadata": {
        "id": "8Yu45DDYgsP9"
      },
      "source": [
        "YEAR = 2021"
      ],
      "execution_count": 64,
      "outputs": []
    },
    {
      "cell_type": "code",
      "metadata": {
        "id": "a_Z0qS9hf_Uw"
      },
      "source": [
        "def get_topics_for_coauthor(author_id):\n",
        "  print(author_id)\n",
        "  query = requests.get(f\"https://api.semanticscholar.org/v1/author/{author_id}\").json()\n",
        "  recent_papers = list(filter(lambda x: (x['year'] if x['year'] is not None else 0) >= YEAR, query['papers']))\n",
        "  paper_queries = [requests.get(f\"https://api.semanticscholar.org/v1/paper/URL:{x['url']}\").json() for x in recent_papers]\n",
        "  topics = [n['topics'] for n in paper_queries]\n",
        "  return Counter([x['topic'] for x in reduce(operator.concat, topics)]).most_common()"
      ],
      "execution_count": 103,
      "outputs": []
    },
    {
      "cell_type": "code",
      "metadata": {
        "id": "4MqdM_LKYr4F"
      },
      "source": [
        "def get_coauthors_as_edge_list(author_id):\n",
        "  # Get the original author's profile\n",
        "  query = requests.get(f\"https://api.semanticscholar.org/v1/author/{author_id}\").json()\n",
        "  original_author = {'authorId': query['authorId'], 'name': query['name'], 'url': query['url']}\n",
        "  # Make a DataFrame of the original author's papers\n",
        "  papers = pd.DataFrame(query['papers'])\n",
        "  recent_papers = papers[papers['year'] >= YEAR]\n",
        "  # Query for the actual papers where year >= YEAR\n",
        "  specific_papers = list(map(lambda url: requests.get(f\"https://api.semanticscholar.org/v1/paper/URL:{url}\"), recent_papers['url']))\n",
        "  # Convert to a list of JSONs\n",
        "  specific_paper_jsons = list(map(lambda x: x.json(), specific_papers))\n",
        "  # Get coauthors\n",
        "  coauthors = [specific_paper_json['authors'] for specific_paper_json in specific_paper_jsons]\n",
        "  coauthors = list(itertools.chain.from_iterable(coauthors))\n",
        "  edge_list = [(original_author['name'], coauthor['name']) for coauthor in coauthors]\n",
        "  edge_list_with_ids = [(original_author['authorId'], coauthor['authorId']) for coauthor in coauthors]\n",
        "  return edge_list, edge_list_with_ids"
      ],
      "execution_count": 104,
      "outputs": []
    },
    {
      "cell_type": "code",
      "metadata": {
        "id": "OvsCHeAtgnDA"
      },
      "source": [
        "_, edge_list_with_ids = get_coauthors_as_edge_list(1697232)"
      ],
      "execution_count": 105,
      "outputs": []
    },
    {
      "cell_type": "code",
      "metadata": {
        "id": "_lhxnIBMgrFl"
      },
      "source": [
        "coauthors = list(pd.Series([x[1] for x in edge_list_with_ids if x[1] is not None]).unique())"
      ],
      "execution_count": 106,
      "outputs": []
    },
    {
      "cell_type": "code",
      "metadata": {
        "colab": {
          "base_uri": "https://localhost:8080/"
        },
        "id": "z9YoCNjlhTNL",
        "outputId": "5af74e71-9d75-4d6b-c7ab-07a5e0643cb4"
      },
      "source": [
        "coauthor_topics = {x: get_topics_for_coauthor(x) for x in coauthors}"
      ],
      "execution_count": 107,
      "outputs": [
        {
          "output_type": "stream",
          "text": [
            "9725200\n",
            "1697232\n",
            "13700002\n",
            "102814355\n",
            "46867502\n",
            "46584367\n",
            "40031488\n",
            "80266867\n",
            "49605911\n",
            "1724815\n",
            "143784081\n",
            "1714602\n",
            "66807781\n",
            "2072740551\n",
            "11218514\n",
            "2080136131\n",
            "65855568\n",
            "2045178324\n",
            "2528276\n",
            "145157784\n",
            "2914608\n"
          ],
          "name": "stdout"
        }
      ]
    },
    {
      "cell_type": "code",
      "metadata": {
        "colab": {
          "base_uri": "https://localhost:8080/"
        },
        "id": "4sYDuBSwoP32",
        "outputId": "9123b141-f74e-4a82-a432-9921480fa6c4"
      },
      "source": [
        "coauthor_topics"
      ],
      "execution_count": 108,
      "outputs": [
        {
          "output_type": "execute_result",
          "data": {
            "text/plain": [
              "{'102814355': [],\n",
              " '11218514': [],\n",
              " '13700002': [],\n",
              " '143784081': [],\n",
              " '145157784': [('Experience', 1),\n",
              "  ('Screenshot', 1),\n",
              "  ('Digital media', 1),\n",
              "  ('End-to-end principle', 1),\n",
              "  ('End system', 1),\n",
              "  ('Theory', 1),\n",
              "  ('Categories', 1)],\n",
              " '1697232': [],\n",
              " '1714602': [('Deep learning', 2),\n",
              "  ('Artificial neural network', 2),\n",
              "  ('Image segmentation', 1),\n",
              "  ('Semiconductor industry', 1),\n",
              "  ('Semi-supervised learning', 1),\n",
              "  ('Tracer', 1),\n",
              "  ('biologic segmentation', 1),\n",
              "  ('Medical image computing', 1),\n",
              "  ('Pixel', 1),\n",
              "  ('Retina', 1),\n",
              "  ('Convolutional neural network', 1),\n",
              "  ('Liver diseases', 1),\n",
              "  ('Optic Disk', 1),\n",
              "  ('CT scan', 1),\n",
              "  ('Medical imaging', 1),\n",
              "  ('Scanning', 1),\n",
              "  ('Neural Network Simulation', 1),\n",
              "  ('Dermoscopy', 1),\n",
              "  ('Glaucoma', 1),\n",
              "  ('Matrix regularization', 1),\n",
              "  ('Neoplasms', 1),\n",
              "  ('Eye', 1),\n",
              "  ('Skin Physiological Phenomena', 1),\n",
              "  ('Silo (dataset)', 1),\n",
              "  ('Computation (action)', 1),\n",
              "  ('hearing impairment', 1),\n",
              "  ('Object detection', 1),\n",
              "  ('Sensor', 1),\n",
              "  ('Aggregate data', 1),\n",
              "  ('Network planning and design', 1),\n",
              "  ('End-to-end principle', 1),\n",
              "  ('Benchmark (computing)', 1),\n",
              "  ('Map', 1),\n",
              "  ('Electroencephalography Phase Synchronization', 1),\n",
              "  ('Learning Disorders', 1),\n",
              "  ('Generalization (Psychology)', 1),\n",
              "  ('algorithm', 1)],\n",
              " '1724815': [],\n",
              " '2045178324': [],\n",
              " '2072740551': [],\n",
              " '2080136131': [],\n",
              " '2528276': [],\n",
              " '2914608': [],\n",
              " '40031488': [],\n",
              " '46584367': [],\n",
              " '46867502': [],\n",
              " '49605911': [],\n",
              " '65855568': [],\n",
              " '66807781': [],\n",
              " '80266867': [('Biological Neural Networks', 1),\n",
              "  ('Electronic Health Records', 1),\n",
              "  ('anatomical layer', 1),\n",
              "  ('Mental Recall', 1),\n",
              "  ('Medical Records, Problem-Oriented', 1),\n",
              "  ('Patients', 1)],\n",
              " '9725200': []}"
            ]
          },
          "metadata": {
            "tags": []
          },
          "execution_count": 108
        }
      ]
    },
    {
      "cell_type": "code",
      "metadata": {
        "id": "DWQ26vHroz5q"
      },
      "source": [
        ""
      ],
      "execution_count": null,
      "outputs": []
    }
  ]
}